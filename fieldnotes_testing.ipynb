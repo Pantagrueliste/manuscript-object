{
 "cells": [
  {
   "cell_type": "code",
   "execution_count": 1,
   "metadata": {},
   "outputs": [],
   "source": [
    "from digital_manuscript import BnF\n",
    "manuscript = BnF()"
   ]
  },
  {
   "cell_type": "code",
   "execution_count": 2,
   "metadata": {},
   "outputs": [],
   "source": [
    "import os\n",
    "import pandas as pd\n",
    "import re\n",
    "import urllib.request\n",
    "from urllib.error import HTTPError"
   ]
  },
  {
   "cell_type": "markdown",
   "metadata": {},
   "source": [
    "Setup file paths:"
   ]
  },
  {
   "cell_type": "code",
   "execution_count": 3,
   "metadata": {},
   "outputs": [],
   "source": [
    "cwd = os.getcwd()\n",
    "#m_path = cwd if 'manuscript-object' not in cwd else f'{cwd}/../'\n",
    "m_path = cwd if 'manuscript-object' in cwd else f'{cwd}/manuscript-object/'\n",
    "fieldnotes_path = f'{m_path}/fieldnotes/FA18+other-fieldnotes-list+links.csv'   # later try to implement pulling directly from Google Sheets\n",
    "out_path = f'{m_path}/fieldnotes/fieldnotes_refs.csv'\n"
   ]
  },
  {
   "cell_type": "markdown",
   "metadata": {},
   "source": [
    "Setup labels and text stuff:"
   ]
  },
  {
   "cell_type": "code",
   "execution_count": 4,
   "metadata": {},
   "outputs": [],
   "source": [
    "df_url_column = 'full-html'\n",
    "df_refs_column = 'references'\n",
    "\n",
    "re_href = re.compile(r'<a href=\"(.*?)\">') # get hyperlinked urls"
   ]
  },
  {
   "cell_type": "markdown",
   "metadata": {},
   "source": [
    "Script:"
   ]
  },
  {
   "cell_type": "code",
   "execution_count": 5,
   "metadata": {},
   "outputs": [],
   "source": [
    "fieldnotes = pd.read_csv(fieldnotes_path)"
   ]
  },
  {
   "cell_type": "markdown",
   "metadata": {},
   "source": [
    "Loop through the urls column:"
   ]
  },
  {
   "cell_type": "code",
   "execution_count": 6,
   "metadata": {},
   "outputs": [
    {
     "name": "stdout",
     "output_type": "stream",
     "text": [
      "URL not found: http://fieldnotes.makingandknowing.org/2018-Fall/Li-Verdigris_Field_Notes_FA18/Li-Verdigris_Field_Notes_FA18.html\n",
      "URL not found: http://fieldnotes.makingandknowing.org/2018-Fall/Olson-Bread_Molding_Reconstruction_Field_Notes_FA18/Olson-Bread_Molding_Reconstruction_Field_Notes_FA18.html\n",
      "URL not found: http://fieldnotes.makingandknowing.org/2018-Fall/Olson-Printmaking_Techniques_Field_Notes/Olson-Printmaking_Techniques_Field_Notes.html\n",
      "URL not found: http://fieldnotes.makingandknowing.org/2018-Fall/Olson-Verdigris_Field_Notes_FA18/Olson-Verdigris_Field_Notes_FA18.html\n",
      "URL not found: http://fieldnotes.makingandknowing.org/2018-Fall/Rosenkranz-Verdigris_EXAMPLE_Field_Notes_FA18/Rosenkranz-Verdigris_EXAMPLE_Field_Notes_FA18.html\n"
     ]
    }
   ],
   "source": [
    "references = [None] * len(fieldnotes[df_url_column])  # initialize list of proper length filled with falsy values\n",
    "for i, url in enumerate(fieldnotes[df_url_column]):\n",
    "    if 'http://' not in url:\n",
    "        url = f'http://{url}'\n",
    "        \n",
    "    try:\n",
    "        f = urllib.request.urlopen(url)\n",
    "    except HTTPError:\n",
    "        print(f\"URL not found: {url}\")\n",
    "        references[i] = 'url not found'\n",
    "        continue\n",
    "    \n",
    "    page_text = f.read().decode('utf-8')\n",
    "    \n",
    "    matches = re_href.findall(page_text)\n",
    "    \n",
    "    for match in matches:\n",
    "        if 'drive.google.com' in match:\n",
    "            if not references[i]:\n",
    "                references[i] = match        # first url\n",
    "            else:\n",
    "                references[i] += ',' + match # append next url, separated by comma\n",
    "    \n",
    "    # if no references in that fieldnote, enter 'none'\n",
    "    if not references[i]:\n",
    "        references[i] = 'none'"
   ]
  },
  {
   "cell_type": "code",
   "execution_count": 7,
   "metadata": {},
   "outputs": [],
   "source": [
    "fieldnotes.insert(len(fieldnotes.columns), df_refs_column, references) # add the references as a column at the end"
   ]
  },
  {
   "cell_type": "code",
   "execution_count": 8,
   "metadata": {},
   "outputs": [],
   "source": [
    "fieldnotes.to_csv(out_path, index=False)"
   ]
  }
 ],
 "metadata": {
  "kernelspec": {
   "display_name": "Python 3.7.4 64-bit",
   "language": "python",
   "name": "python37464bitd1f438d1876f44549e9f31c994f2ef25"
  },
  "language_info": {
   "codemirror_mode": {
    "name": "ipython",
    "version": 3
   },
   "file_extension": ".py",
   "mimetype": "text/x-python",
   "name": "python",
   "nbconvert_exporter": "python",
   "pygments_lexer": "ipython3",
   "version": "3.7.4"
  }
 },
 "nbformat": 4,
 "nbformat_minor": 4
}
