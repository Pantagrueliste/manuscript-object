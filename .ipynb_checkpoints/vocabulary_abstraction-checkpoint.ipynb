{
 "cells": [
  {
   "cell_type": "code",
   "execution_count": 1,
   "metadata": {},
   "outputs": [
    {
     "name": "stderr",
     "output_type": "stream",
     "text": [
      "[nltk_data] Downloading package wordnet to\n",
      "[nltk_data]     /Users/matthewkumar/nltk_data...\n",
      "[nltk_data]   Package wordnet is already up-to-date!\n"
     ]
    }
   ],
   "source": [
    "import os\n",
    "import pandas as pd\n",
    "import nltk\n",
    "nltk.download('wordnet')\n",
    "wn = nltk.corpus.wordnet\n",
    "from digital_manuscript import BnF"
   ]
  },
  {
   "cell_type": "code",
   "execution_count": 2,
   "metadata": {},
   "outputs": [
    {
     "data": {
      "text/plain": [
       "['crab',\n",
       " 'daot',\n",
       " 'spider',\n",
       " 'swine',\n",
       " 'duck',\n",
       " 'turtle',\n",
       " 'flea',\n",
       " 'bat',\n",
       " 'turtledofe',\n",
       " 'shell',\n",
       " 'toad',\n",
       " 'hog',\n",
       " 'swan',\n",
       " 'fish',\n",
       " 'crayfish',\n",
       " 'ox',\n",
       " 'pig',\n",
       " 'mealworm',\n",
       " 'oyster',\n",
       " 'water-dog',\n",
       " 'squirrel',\n",
       " 'ewe',\n",
       " 'cicada',\n",
       " 'lamb',\n",
       " 'og',\n",
       " 'mule',\n",
       " 'worm',\n",
       " 'petit-gri',\n",
       " 'porcupine',\n",
       " 'nightingale',\n",
       " 'frog',\n",
       " 'snake',\n",
       " 'dog',\n",
       " 'siskin',\n",
       " 'animal',\n",
       " 'colt',\n",
       " 'chaffinch',\n",
       " 'bittern',\n",
       " 'weasel',\n",
       " 'barbel',\n",
       " 'wolf',\n",
       " 'cuckoo',\n",
       " 'sheep',\n",
       " 'calandra',\n",
       " 'crow',\n",
       " 'ant',\n",
       " 'chick',\n",
       " 'butterfly',\n",
       " 'horse',\n",
       " 'louse',\n",
       " 'hen',\n",
       " 'goldfinch',\n",
       " 'dragon',\n",
       " 'eagle',\n",
       " 'aucupio',\n",
       " 'mussel',\n",
       " 'calendra',\n",
       " 'beef',\n",
       " 'earthworm',\n",
       " 'partridge',\n",
       " 'verdaule',\n",
       " 'ortolan',\n",
       " 'fly',\n",
       " 'passerine',\n",
       " 'swallow',\n",
       " 'bird',\n",
       " 'hart',\n",
       " 'rat',\n",
       " 'cuttlefish',\n",
       " 'mouse',\n",
       " 'pigeon',\n",
       " 'rabbit',\n",
       " 'cow',\n",
       " 'snail',\n",
       " 'calf',\n",
       " 'tellin',\n",
       " 'dogfish',\n",
       " 'silkworm',\n",
       " 'chicken',\n",
       " 'viper',\n",
       " 'goat',\n",
       " 'lark',\n",
       " 'lizard',\n",
       " 'dormouse',\n",
       " 'bombicum',\n",
       " 'human',\n",
       " 'cat',\n",
       " 'pork',\n",
       " 'mutton',\n",
       " 'codfish',\n",
       " 'linnet',\n",
       " 'grasshopper']"
      ]
     },
     "execution_count": 2,
     "metadata": {},
     "output_type": "execute_result"
    }
   ],
   "source": [
    "path = os.getcwd() + '/../m-k-manuscript-data/manuscript-object/thesaurus/animal.csv'\n",
    "\n",
    "df = pd.read_csv(path)\n",
    "terms = list(set(df['prefLabel_en']))\n",
    "simple_terms = [t for t in terms if ' ' not in t]\n",
    "simple_terms"
   ]
  },
  {
   "cell_type": "code",
   "execution_count": 3,
   "metadata": {},
   "outputs": [
    {
     "data": {
      "text/plain": [
       "[Synset('dog.n.01'),\n",
       " Synset('frump.n.01'),\n",
       " Synset('dog.n.03'),\n",
       " Synset('cad.n.01'),\n",
       " Synset('frank.n.02'),\n",
       " Synset('pawl.n.01'),\n",
       " Synset('andiron.n.01')]"
      ]
     },
     "execution_count": 3,
     "metadata": {},
     "output_type": "execute_result"
    }
   ],
   "source": [
    "term = 'dog'\n",
    "dog = wn.synsets(term, pos=wn.NOUN)\n",
    "dog\n",
    "# hyper = dog[0].hypernyms()\n",
    "# for x in hyper:\n",
    "#     print(x, x.hypernyms())\n",
    "\n",
    "# from nltk.corpus import wordnet as wn\n",
    "# for ss in wn.synsets(term):\n",
    "#     print (ss, ss.hypernyms())"
   ]
  },
  {
   "cell_type": "code",
   "execution_count": 19,
   "metadata": {},
   "outputs": [],
   "source": [
    "class r_node:\n",
    "    def __init__(self, lemma, children=[]):\n",
    "        self.lemma = lemma\n",
    "        self.children = children\n",
    "        self.hypernyms = lemma.hypernyms()\n",
    "        self.parents = [r_node(h, children + [lemma,]) for h in self.hypernyms]\n",
    "        \n",
    "        \n",
    "        "
   ]
  },
  {
   "cell_type": "code",
   "execution_count": 22,
   "metadata": {},
   "outputs": [
    {
     "data": {
      "text/plain": [
       "Synset('animal.n.01')"
      ]
     },
     "execution_count": 22,
     "metadata": {},
     "output_type": "execute_result"
    }
   ],
   "source": [
    "animal = wn.synset('animal.n.01')\n",
    "\n",
    "dog = wn.synsets('dog', pos=wn.NOUN)[0]\n",
    "dn = r_node(dog)\n",
    "print([p.parents[0].lemma for p in dn.parents])\n",
    "\n",
    "# animal\n"
   ]
  },
  {
   "cell_type": "code",
   "execution_count": 6,
   "metadata": {},
   "outputs": [
    {
     "name": "stdout",
     "output_type": "stream",
     "text": [
      "[Synset('vertebrate.n.01')]\n",
      "[Synset('vertebrate.n.01')]\n",
      "[Synset('reptile.n.01')]\n",
      "[Synset('vertebrate.n.01')]\n",
      "[Synset('vertebrate.n.01')]\n",
      "[Synset('vertebrate.n.01')]\n",
      "[Synset('animal.n.01')]\n",
      "[Synset('invertebrate.n.01')]\n"
     ]
    }
   ],
   "source": [
    "squirrel = wn.synsets('squirrel')[0]\n",
    "weasel = wn.synsets('weasel')[1] # index 0 is a sneaky person\n",
    "squirrel.lowest_common_hypernyms(weasel)\n",
    "\n",
    "snake = wn.synsets('snake')[0]\n",
    "print(snake.lowest_common_hypernyms(weasel))\n",
    "print(snake.lowest_common_hypernyms(squirrel))\n",
    "\n",
    "turtle = wn.synsets('turtle')[1] # index 0 is a turtleneck (lmao)\n",
    "print(turtle.lowest_common_hypernyms(snake))\n",
    "print(turtle.lowest_common_hypernyms(squirrel))\n",
    "\n",
    "fish = wn.synsets('fish', pos=wn.NOUN)[0] # pos = part of speech\n",
    "swan = wn.synsets('swan')[0]\n",
    "print(fish.lowest_common_hypernyms(turtle))\n",
    "print(fish.lowest_common_hypernyms(snake))\n",
    "\n",
    "louse = wn.synsets('louse')[0]\n",
    "oyster = wn.synsets('oyster')[0]\n",
    "print(louse.lowest_common_hypernyms(snake))\n",
    "print(louse.lowest_common_hypernyms(oyster))"
   ]
  },
  {
   "cell_type": "code",
   "execution_count": null,
   "metadata": {},
   "outputs": [],
   "source": []
  },
  {
   "cell_type": "code",
   "execution_count": null,
   "metadata": {},
   "outputs": [],
   "source": []
  }
 ],
 "metadata": {
  "kernelspec": {
   "display_name": "Python 3.7.4 64-bit ('manuscript-object': pipenv)",
   "language": "python",
   "name": "python37464bitmanuscriptobjectpipenv778597c73c514a8aa7536aea1433c1ad"
  },
  "language_info": {
   "codemirror_mode": {
    "name": "ipython",
    "version": 3
   },
   "file_extension": ".py",
   "mimetype": "text/x-python",
   "name": "python",
   "nbconvert_exporter": "python",
   "pygments_lexer": "ipython3",
   "version": "3.7.4"
  }
 },
 "nbformat": 4,
 "nbformat_minor": 4
}
