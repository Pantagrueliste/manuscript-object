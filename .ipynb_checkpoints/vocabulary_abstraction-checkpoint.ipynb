{
 "cells": [
  {
   "cell_type": "code",
   "execution_count": 7,
   "metadata": {},
   "outputs": [
    {
     "name": "stderr",
     "output_type": "stream",
     "text": [
      "[nltk_data] Downloading package wordnet to\n",
      "[nltk_data]     /Users/matthewkumar/nltk_data...\n",
      "[nltk_data]   Package wordnet is already up-to-date!\n"
     ]
    }
   ],
   "source": [
    "import os\n",
    "import pandas as pd\n",
    "import nltk\n",
    "nltk.download('wordnet')\n",
    "wn = nltk.corpus.wordnet\n",
    "from digital_manuscript import BnF"
   ]
  },
  {
   "cell_type": "code",
   "execution_count": 15,
   "metadata": {},
   "outputs": [
    {
     "data": {
      "text/plain": [
       "['squirrel',\n",
       " 'bittern',\n",
       " 'fly',\n",
       " 'calandra',\n",
       " 'hog',\n",
       " 'lamb',\n",
       " 'dragon',\n",
       " 'cicada',\n",
       " 'hen',\n",
       " 'fish',\n",
       " 'tellin',\n",
       " 'mussel',\n",
       " 'eagle',\n",
       " 'pigeon',\n",
       " 'oyster',\n",
       " 'colt',\n",
       " 'lark',\n",
       " 'water-dog',\n",
       " 'crayfish',\n",
       " 'bat',\n",
       " 'weasel',\n",
       " 'snake',\n",
       " 'shell',\n",
       " 'mutton',\n",
       " 'pig',\n",
       " 'louse',\n",
       " 'swine',\n",
       " 'chick',\n",
       " 'swan',\n",
       " 'codfish',\n",
       " 'bombicum',\n",
       " 'worm',\n",
       " 'barbel',\n",
       " 'lizard',\n",
       " 'beef',\n",
       " 'mule',\n",
       " 'goat',\n",
       " 'wolf',\n",
       " 'verdaule',\n",
       " 'dormouse',\n",
       " 'chaffinch',\n",
       " 'aucupio',\n",
       " 'calendra',\n",
       " 'linnet',\n",
       " 'cow',\n",
       " 'viper',\n",
       " 'cat',\n",
       " 'crow',\n",
       " 'snail',\n",
       " 'turtle',\n",
       " 'grasshopper',\n",
       " 'bird',\n",
       " 'duck',\n",
       " 'ewe',\n",
       " 'chicken',\n",
       " 'toad',\n",
       " 'animal',\n",
       " 'ox',\n",
       " 'turtledofe',\n",
       " 'swallow',\n",
       " 'cuckoo',\n",
       " 'cuttlefish',\n",
       " 'frog',\n",
       " 'hart',\n",
       " 'goldfinch',\n",
       " 'rabbit',\n",
       " 'ortolan',\n",
       " 'butterfly',\n",
       " 'ant',\n",
       " 'mealworm',\n",
       " 'og',\n",
       " 'pork',\n",
       " 'sheep',\n",
       " 'partridge',\n",
       " 'calf',\n",
       " 'mouse',\n",
       " 'earthworm',\n",
       " 'silkworm',\n",
       " 'siskin',\n",
       " 'horse',\n",
       " 'passerine',\n",
       " 'daot',\n",
       " 'petit-gri',\n",
       " 'nightingale',\n",
       " 'rat',\n",
       " 'human',\n",
       " 'dogfish',\n",
       " 'porcupine',\n",
       " 'crab',\n",
       " 'spider',\n",
       " 'dog',\n",
       " 'flea']"
      ]
     },
     "execution_count": 15,
     "metadata": {},
     "output_type": "execute_result"
    }
   ],
   "source": [
    "path = os.getcwd() + '/../m-k-manuscript-data/manuscript-object/thesaurus/animal.csv'\n",
    "\n",
    "df = pd.read_csv(path)\n",
    "terms = list(set(df['prefLabel_en']))\n",
    "simple_terms = [t for t in terms if ' ' not in t]\n",
    "simple_terms"
   ]
  },
  {
   "cell_type": "code",
   "execution_count": 10,
   "metadata": {},
   "outputs": [
    {
     "data": {
      "text/plain": [
       "[Synset('dog.n.01'),\n",
       " Synset('frump.n.01'),\n",
       " Synset('dog.n.03'),\n",
       " Synset('cad.n.01'),\n",
       " Synset('frank.n.02'),\n",
       " Synset('pawl.n.01'),\n",
       " Synset('andiron.n.01')]"
      ]
     },
     "execution_count": 10,
     "metadata": {},
     "output_type": "execute_result"
    }
   ],
   "source": [
    "term = 'dog'\n",
    "dog = wn.synsets(term, pos=wn.NOUN)\n",
    "dog\n",
    "# hyper = dog[0].hypernyms()\n",
    "# for x in hyper:\n",
    "#     print(x, x.hypernyms())\n",
    "\n",
    "# from nltk.corpus import wordnet as wn\n",
    "# for ss in wn.synsets(term):\n",
    "#     print (ss, ss.hypernyms())"
   ]
  },
  {
   "cell_type": "code",
   "execution_count": 30,
   "metadata": {},
   "outputs": [],
   "source": [
    "class r_node:\n",
    "    def __init__(self, term: str):\n",
    "        self.term = term\n",
    "        self.synsets = wn.synsets(term, pos=wn.NOUN)\n",
    "        self.names = []\n",
    "        for synset in self.synsets:\n",
    "            for lemma in synset.lemmas():\n",
    "                print(synset, lemma, lemma.name())\n",
    "                if lemma.name() == term:\n",
    "                    print('nice')\n",
    "                    self.names.append(synset)\n",
    "        self.names = list(set(self.names))\n",
    "        print(self.names)\n",
    "        \n",
    "        self.parents = []\n",
    "        self.child = None\n",
    "        \n",
    "        "
   ]
  },
  {
   "cell_type": "code",
   "execution_count": 31,
   "metadata": {},
   "outputs": [
    {
     "name": "stdout",
     "output_type": "stream",
     "text": [
      "Synset('dog.n.01') Lemma('dog.n.01.dog') dog\n",
      "nice\n",
      "Synset('dog.n.01') Lemma('dog.n.01.domestic_dog') domestic_dog\n",
      "Synset('dog.n.01') Lemma('dog.n.01.Canis_familiaris') Canis_familiaris\n",
      "Synset('frump.n.01') Lemma('frump.n.01.frump') frump\n",
      "Synset('frump.n.01') Lemma('frump.n.01.dog') dog\n",
      "nice\n",
      "Synset('dog.n.03') Lemma('dog.n.03.dog') dog\n",
      "nice\n",
      "Synset('cad.n.01') Lemma('cad.n.01.cad') cad\n",
      "Synset('cad.n.01') Lemma('cad.n.01.bounder') bounder\n",
      "Synset('cad.n.01') Lemma('cad.n.01.blackguard') blackguard\n",
      "Synset('cad.n.01') Lemma('cad.n.01.dog') dog\n",
      "nice\n",
      "Synset('cad.n.01') Lemma('cad.n.01.hound') hound\n",
      "Synset('cad.n.01') Lemma('cad.n.01.heel') heel\n",
      "Synset('frank.n.02') Lemma('frank.n.02.frank') frank\n",
      "Synset('frank.n.02') Lemma('frank.n.02.frankfurter') frankfurter\n",
      "Synset('frank.n.02') Lemma('frank.n.02.hotdog') hotdog\n",
      "Synset('frank.n.02') Lemma('frank.n.02.hot_dog') hot_dog\n",
      "Synset('frank.n.02') Lemma('frank.n.02.dog') dog\n",
      "nice\n",
      "Synset('frank.n.02') Lemma('frank.n.02.wiener') wiener\n",
      "Synset('frank.n.02') Lemma('frank.n.02.wienerwurst') wienerwurst\n",
      "Synset('frank.n.02') Lemma('frank.n.02.weenie') weenie\n",
      "Synset('pawl.n.01') Lemma('pawl.n.01.pawl') pawl\n",
      "Synset('pawl.n.01') Lemma('pawl.n.01.detent') detent\n",
      "Synset('pawl.n.01') Lemma('pawl.n.01.click') click\n",
      "Synset('pawl.n.01') Lemma('pawl.n.01.dog') dog\n",
      "nice\n",
      "Synset('andiron.n.01') Lemma('andiron.n.01.andiron') andiron\n",
      "Synset('andiron.n.01') Lemma('andiron.n.01.firedog') firedog\n",
      "Synset('andiron.n.01') Lemma('andiron.n.01.dog') dog\n",
      "nice\n",
      "Synset('andiron.n.01') Lemma('andiron.n.01.dog-iron') dog-iron\n",
      "[Synset('andiron.n.01'), Synset('cad.n.01'), Synset('dog.n.01'), Synset('dog.n.03'), Synset('frank.n.02'), Synset('pawl.n.01'), Synset('frump.n.01')]\n"
     ]
    }
   ],
   "source": [
    "dn = r_node('dog')\n"
   ]
  },
  {
   "cell_type": "code",
   "execution_count": 34,
   "metadata": {},
   "outputs": [
    {
     "name": "stdout",
     "output_type": "stream",
     "text": [
      "[Synset('vertebrate.n.01')]\n",
      "[Synset('vertebrate.n.01')]\n"
     ]
    }
   ],
   "source": [
    "squirrel = wn.synsets('squirrel')[0]\n",
    "weasel = wn.synsets('weasel')[1] # index 0 is a sneaky person\n",
    "squirrel.lowest_common_hypernyms(weasel)\n",
    "\n",
    "snake = wn.synsets('snake')[0]\n",
    "print(snake.lowest_common_hypernyms(weasel))\n",
    "print(snake.lowest_common_hypernyms(squirrel))\n",
    "\n",
    "turtle = wn.synsets('turtle')\n",
    "for t in turtle:\n",
    "    print(t.definition())"
   ]
  },
  {
   "cell_type": "code",
   "execution_count": null,
   "metadata": {},
   "outputs": [],
   "source": []
  },
  {
   "cell_type": "code",
   "execution_count": null,
   "metadata": {},
   "outputs": [],
   "source": []
  }
 ],
 "metadata": {
  "kernelspec": {
   "display_name": "Python 3.7.4 64-bit ('manuscript-object': pipenv)",
   "language": "python",
   "name": "python37464bitmanuscriptobjectpipenv778597c73c514a8aa7536aea1433c1ad"
  },
  "language_info": {
   "codemirror_mode": {
    "name": "ipython",
    "version": 3
   },
   "file_extension": ".py",
   "mimetype": "text/x-python",
   "name": "python",
   "nbconvert_exporter": "python",
   "pygments_lexer": "ipython3",
   "version": "3.7.4"
  }
 },
 "nbformat": 4,
 "nbformat_minor": 4
}
