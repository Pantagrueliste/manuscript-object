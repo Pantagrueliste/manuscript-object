{
 "cells": [
  {
   "cell_type": "code",
   "execution_count": 7,
   "metadata": {},
   "outputs": [
    {
     "name": "stderr",
     "output_type": "stream",
     "text": [
      "[nltk_data] Downloading package wordnet to\n",
      "[nltk_data]     /Users/matthewkumar/nltk_data...\n",
      "[nltk_data]   Package wordnet is already up-to-date!\n"
     ]
    }
   ],
   "source": [
    "import os\n",
    "import pandas as pd\n",
    "import nltk\n",
    "nltk.download('wordnet')\n",
    "wn = nltk.corpus.wordnet\n",
    "from digital_manuscript import BnF"
   ]
  },
  {
   "cell_type": "code",
   "execution_count": 15,
   "metadata": {},
   "outputs": [
    {
     "data": {
      "text/plain": [
       "['squirrel',\n",
       " 'bittern',\n",
       " 'fly',\n",
       " 'calandra',\n",
       " 'hog',\n",
       " 'lamb',\n",
       " 'dragon',\n",
       " 'cicada',\n",
       " 'hen',\n",
       " 'fish',\n",
       " 'tellin',\n",
       " 'mussel',\n",
       " 'eagle',\n",
       " 'pigeon',\n",
       " 'oyster',\n",
       " 'colt',\n",
       " 'lark',\n",
       " 'water-dog',\n",
       " 'crayfish',\n",
       " 'bat',\n",
       " 'weasel',\n",
       " 'snake',\n",
       " 'shell',\n",
       " 'mutton',\n",
       " 'pig',\n",
       " 'louse',\n",
       " 'swine',\n",
       " 'chick',\n",
       " 'swan',\n",
       " 'codfish',\n",
       " 'bombicum',\n",
       " 'worm',\n",
       " 'barbel',\n",
       " 'lizard',\n",
       " 'beef',\n",
       " 'mule',\n",
       " 'goat',\n",
       " 'wolf',\n",
       " 'verdaule',\n",
       " 'dormouse',\n",
       " 'chaffinch',\n",
       " 'aucupio',\n",
       " 'calendra',\n",
       " 'linnet',\n",
       " 'cow',\n",
       " 'viper',\n",
       " 'cat',\n",
       " 'crow',\n",
       " 'snail',\n",
       " 'turtle',\n",
       " 'grasshopper',\n",
       " 'bird',\n",
       " 'duck',\n",
       " 'ewe',\n",
       " 'chicken',\n",
       " 'toad',\n",
       " 'animal',\n",
       " 'ox',\n",
       " 'turtledofe',\n",
       " 'swallow',\n",
       " 'cuckoo',\n",
       " 'cuttlefish',\n",
       " 'frog',\n",
       " 'hart',\n",
       " 'goldfinch',\n",
       " 'rabbit',\n",
       " 'ortolan',\n",
       " 'butterfly',\n",
       " 'ant',\n",
       " 'mealworm',\n",
       " 'og',\n",
       " 'pork',\n",
       " 'sheep',\n",
       " 'partridge',\n",
       " 'calf',\n",
       " 'mouse',\n",
       " 'earthworm',\n",
       " 'silkworm',\n",
       " 'siskin',\n",
       " 'horse',\n",
       " 'passerine',\n",
       " 'daot',\n",
       " 'petit-gri',\n",
       " 'nightingale',\n",
       " 'rat',\n",
       " 'human',\n",
       " 'dogfish',\n",
       " 'porcupine',\n",
       " 'crab',\n",
       " 'spider',\n",
       " 'dog',\n",
       " 'flea']"
      ]
     },
     "execution_count": 15,
     "metadata": {},
     "output_type": "execute_result"
    }
   ],
   "source": [
    "path = os.getcwd() + '/../m-k-manuscript-data/manuscript-object/thesaurus/animal.csv'\n",
    "\n",
    "df = pd.read_csv(path)\n",
    "terms = list(set(df['prefLabel_en']))\n",
    "simple_terms = [t for t in terms if ' ' not in t]\n",
    "simple_terms"
   ]
  },
  {
   "cell_type": "code",
   "execution_count": 10,
   "metadata": {},
   "outputs": [
    {
     "data": {
      "text/plain": [
       "[Synset('dog.n.01'),\n",
       " Synset('frump.n.01'),\n",
       " Synset('dog.n.03'),\n",
       " Synset('cad.n.01'),\n",
       " Synset('frank.n.02'),\n",
       " Synset('pawl.n.01'),\n",
       " Synset('andiron.n.01')]"
      ]
     },
     "execution_count": 10,
     "metadata": {},
     "output_type": "execute_result"
    }
   ],
   "source": [
    "term = 'dog'\n",
    "dog = wn.synsets(term, pos=wn.NOUN)\n",
    "dog\n",
    "# hyper = dog[0].hypernyms()\n",
    "# for x in hyper:\n",
    "#     print(x, x.hypernyms())\n",
    "\n",
    "# from nltk.corpus import wordnet as wn\n",
    "# for ss in wn.synsets(term):\n",
    "#     print (ss, ss.hypernyms())"
   ]
  },
  {
   "cell_type": "code",
   "execution_count": 55,
   "metadata": {},
   "outputs": [],
   "source": [
    "class r_node:\n",
    "    def __init__(self, lemma, children=[]):\n",
    "        hypernyms = lemma.hypernyms()\n",
    "        parents = [r_node(h, children + [lemma,]) for h in hypernyms]\n",
    "        \n",
    "        \n",
    "        "
   ]
  },
  {
   "cell_type": "code",
   "execution_count": 56,
   "metadata": {},
   "outputs": [
    {
     "name": "stdout",
     "output_type": "stream",
     "text": [
      "[Synset('canine.n.02'), Synset('domestic_animal.n.01')]\n"
     ]
    }
   ],
   "source": [
    "dog = wn.synsets('dog', pos=wn.NOUN)[0]\n",
    "dn = r_node(dog)\n"
   ]
  },
  {
   "cell_type": "code",
   "execution_count": 45,
   "metadata": {},
   "outputs": [
    {
     "name": "stdout",
     "output_type": "stream",
     "text": [
      "[Synset('vertebrate.n.01')]\n",
      "[Synset('vertebrate.n.01')]\n",
      "[Synset('reptile.n.01')]\n",
      "[Synset('vertebrate.n.01')]\n",
      "[Synset('vertebrate.n.01')]\n",
      "[Synset('vertebrate.n.01')]\n",
      "[Synset('animal.n.01')]\n",
      "[Synset('invertebrate.n.01')]\n"
     ]
    }
   ],
   "source": [
    "squirrel = wn.synsets('squirrel')[0]\n",
    "weasel = wn.synsets('weasel')[1] # index 0 is a sneaky person\n",
    "squirrel.lowest_common_hypernyms(weasel)\n",
    "\n",
    "snake = wn.synsets('snake')[0]\n",
    "print(snake.lowest_common_hypernyms(weasel))\n",
    "print(snake.lowest_common_hypernyms(squirrel))\n",
    "\n",
    "turtle = wn.synsets('turtle')[1] # index 0 is a turtleneck (lmao)\n",
    "print(turtle.lowest_common_hypernyms(snake))\n",
    "print(turtle.lowest_common_hypernyms(squirrel))\n",
    "\n",
    "fish = wn.synsets('fish', pos=wn.NOUN)[0] # pos = part of speech\n",
    "swan = wn.synsets('swan')[0]\n",
    "print(fish.lowest_common_hypernyms(turtle))\n",
    "print(fish.lowest_common_hypernyms(snake))\n",
    "\n",
    "louse = wn.synsets('louse')[0]\n",
    "oyster = wn.synsets('oyster')[0]\n",
    "print(louse.lowest_common_hypernyms(snake))\n",
    "print(louse.lowest_common_hypernyms(oyster))"
   ]
  },
  {
   "cell_type": "code",
   "execution_count": null,
   "metadata": {},
   "outputs": [],
   "source": []
  },
  {
   "cell_type": "code",
   "execution_count": null,
   "metadata": {},
   "outputs": [],
   "source": []
  }
 ],
 "metadata": {
  "kernelspec": {
   "display_name": "Python 3.7.4 64-bit ('manuscript-object': pipenv)",
   "language": "python",
   "name": "python37464bitmanuscriptobjectpipenv778597c73c514a8aa7536aea1433c1ad"
  },
  "language_info": {
   "codemirror_mode": {
    "name": "ipython",
    "version": 3
   },
   "file_extension": ".py",
   "mimetype": "text/x-python",
   "name": "python",
   "nbconvert_exporter": "python",
   "pygments_lexer": "ipython3",
   "version": "3.7.4"
  }
 },
 "nbformat": 4,
 "nbformat_minor": 4
}
