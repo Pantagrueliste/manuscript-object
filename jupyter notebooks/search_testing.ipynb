{
 "cells": [
  {
   "cell_type": "code",
   "execution_count": 1,
   "metadata": {},
   "outputs": [],
   "source": [
    "from digital_manuscript import BnF"
   ]
  },
  {
   "cell_type": "code",
   "execution_count": 2,
   "metadata": {},
   "outputs": [],
   "source": [
    "manuscript = BnF()"
   ]
  },
  {
   "cell_type": "code",
   "execution_count": 3,
   "metadata": {},
   "outputs": [
    {
     "data": {
      "text/plain": [
       "'hello world'"
      ]
     },
     "execution_count": 3,
     "metadata": {},
     "output_type": "execute_result"
    }
   ],
   "source": [
    "manuscript.testfunc()"
   ]
  },
  {
   "cell_type": "code",
   "execution_count": 4,
   "metadata": {},
   "outputs": [
    {
     "data": {
      "text/plain": [
       "<recipe.Recipe at 0x2cb307a5fc8>"
      ]
     },
     "execution_count": 4,
     "metadata": {},
     "output_type": "execute_result"
    }
   ],
   "source": [
    "manuscript.entries['001r_1']"
   ]
  },
  {
   "cell_type": "code",
   "execution_count": 27,
   "metadata": {},
   "outputs": [],
   "source": [
    "roses = manuscript.search(plant=['rose'])"
   ]
  },
  {
   "cell_type": "code",
   "execution_count": 28,
   "metadata": {},
   "outputs": [
    {
     "data": {
      "text/plain": [
       "['116r_4',\n",
       " '155r_1',\n",
       " '155v_1',\n",
       " '159v_2',\n",
       " '169r_1',\n",
       " '010r_1',\n",
       " '010r_3',\n",
       " '120v_6',\n",
       " '129r_4',\n",
       " '154v_4']"
      ]
     },
     "execution_count": 28,
     "metadata": {},
     "output_type": "execute_result"
    }
   ],
   "source": [
    "roses"
   ]
  },
  {
   "cell_type": "code",
   "execution_count": 36,
   "metadata": {},
   "outputs": [
    {
     "data": {
      "text/plain": [
       "[['rose'],\n",
       " ['strawberry plant', 'rose'],\n",
       " ['rose'],\n",
       " ['carnation', 'marigold', 'rose'],\n",
       " ['wheat',\n",
       "  'strawberry',\n",
       "  'carnation',\n",
       "  'capilli veneri',\n",
       "  'moss',\n",
       "  'rose',\n",
       "  'vine'],\n",
       " ['spike lavender', 'rose'],\n",
       " ['rose'],\n",
       " ['ranunculu',\n",
       "  'broom',\n",
       "  'carnation',\n",
       "  'amaranth',\n",
       "  'rose',\n",
       "  'yellow meadow flower',\n",
       "  'palta lupina',\n",
       "  'marigold',\n",
       "  'pansy',\n",
       "  'cornflower'],\n",
       " ['caper plant', 'wheat', 'pansy', 'rose'],\n",
       " ['wheat', 'pansy', 'rose']]"
      ]
     },
     "execution_count": 36,
     "metadata": {},
     "output_type": "execute_result"
    }
   ],
   "source": [
    "[manuscript.entries[just_rose[i]].get_prop('plant') for i in range(len(roses))]"
   ]
  },
  {
   "cell_type": "code",
   "execution_count": 38,
   "metadata": {},
   "outputs": [
    {
     "data": {
      "text/plain": [
       "['044r_5', '110v_2', '120v_6', '129r_4', '138v_2', '142v_1', '154v_4']"
      ]
     },
     "execution_count": 38,
     "metadata": {},
     "output_type": "execute_result"
    }
   ],
   "source": [
    "manuscript.search(plant=['pansy'])"
   ]
  },
  {
   "cell_type": "code",
   "execution_count": 39,
   "metadata": {},
   "outputs": [
    {
     "data": {
      "text/plain": [
       "['003v_1',\n",
       " '004v_1',\n",
       " '004v_3',\n",
       " '006v_2',\n",
       " '007r_1',\n",
       " '010r_5',\n",
       " '010v_3',\n",
       " '012v_3',\n",
       " '016r_1',\n",
       " '017r_1',\n",
       " '022v_1',\n",
       " '023r_1',\n",
       " '023v_1',\n",
       " '024v_1',\n",
       " '028v_1',\n",
       " '030r_2',\n",
       " '032v_3',\n",
       " '036v_3',\n",
       " '037r_3',\n",
       " '039r_2',\n",
       " '048v_1',\n",
       " '049r_1',\n",
       " '050v_2',\n",
       " '053r_2',\n",
       " '057v_1',\n",
       " '063r_3',\n",
       " '067v_1',\n",
       " '068r_3',\n",
       " '072r_2',\n",
       " '072v_1',\n",
       " '073r_5',\n",
       " '076v_4',\n",
       " '078v_1',\n",
       " '081r_3',\n",
       " '081v_2',\n",
       " '081v_4',\n",
       " '082r_2',\n",
       " '082v_4',\n",
       " '085v_4',\n",
       " '087v_3',\n",
       " '088r_2',\n",
       " '092v_2',\n",
       " '094r_1',\n",
       " '097r_2',\n",
       " '098r_2',\n",
       " '098r_3',\n",
       " '098v_5',\n",
       " '101r_1',\n",
       " '104r_2',\n",
       " '105v_4',\n",
       " '106r_2',\n",
       " '106v_1',\n",
       " '110v_2',\n",
       " '112v_1',\n",
       " '118v_1',\n",
       " '',\n",
       " '125r_2',\n",
       " '126v_3',\n",
       " '129v_1',\n",
       " '133r_3',\n",
       " '134r_1',\n",
       " '136v_1',\n",
       " '139r_1',\n",
       " '141r_1',\n",
       " '144r_1',\n",
       " '145v_1',\n",
       " '146v_1',\n",
       " '148r_2',\n",
       " '148r_4',\n",
       " '149r_1',\n",
       " '149r_3',\n",
       " '150v_1',\n",
       " '151v_1',\n",
       " '152r_1',\n",
       " '152v_1',\n",
       " '155v_1',\n",
       " '156v_1',\n",
       " '160r_1',\n",
       " '161v_1',\n",
       " '165v_1',\n",
       " '167r_1',\n",
       " '169r_1']"
      ]
     },
     "execution_count": 39,
     "metadata": {},
     "output_type": "execute_result"
    }
   ],
   "source": [
    "manuscript.search(material=['iron'])"
   ]
  },
  {
   "cell_type": "code",
   "execution_count": null,
   "metadata": {},
   "outputs": [],
   "source": []
  },
  {
   "cell_type": "code",
   "execution_count": null,
   "metadata": {},
   "outputs": [],
   "source": []
  }
 ],
 "metadata": {
  "kernelspec": {
   "display_name": "Python 3.7.4 64-bit",
   "language": "python",
   "name": "python37464bitd1f438d1876f44549e9f31c994f2ef25"
  },
  "language_info": {
   "codemirror_mode": {
    "name": "ipython",
    "version": 3
   },
   "file_extension": ".py",
   "mimetype": "text/x-python",
   "name": "python",
   "nbconvert_exporter": "python",
   "pygments_lexer": "ipython3",
   "version": "3.7.4"
  }
 },
 "nbformat": 4,
 "nbformat_minor": 4
}
