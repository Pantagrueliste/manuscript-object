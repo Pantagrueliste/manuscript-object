{
 "cells": [
  {
   "cell_type": "code",
   "execution_count": 1,
   "metadata": {},
   "outputs": [
    {
     "name": "stderr",
     "output_type": "stream",
     "text": [
      "[nltk_data] Downloading package wordnet to\n",
      "[nltk_data]     /Users/matthewkumar/nltk_data...\n",
      "[nltk_data]   Package wordnet is already up-to-date!\n"
     ]
    }
   ],
   "source": [
    "import os\n",
    "import pandas as pd\n",
    "import nltk\n",
    "nltk.download('wordnet')\n",
    "wn = nltk.corpus.wordnet\n",
    "from digital_manuscript import BnF"
   ]
  },
  {
   "cell_type": "code",
   "execution_count": 2,
   "metadata": {},
   "outputs": [
    {
     "data": {
      "text/plain": [
       "['water-dog',\n",
       " 'oyster',\n",
       " 'bat',\n",
       " 'siskin',\n",
       " 'calendra',\n",
       " 'snake',\n",
       " 'fish',\n",
       " 'human',\n",
       " 'mule',\n",
       " 'swine',\n",
       " 'worm',\n",
       " 'ant',\n",
       " 'calf',\n",
       " 'ox',\n",
       " 'lizard',\n",
       " 'petit-gri',\n",
       " 'cuttlefish',\n",
       " 'ortolan',\n",
       " 'butterfly',\n",
       " 'mealworm',\n",
       " 'beef',\n",
       " 'squirrel',\n",
       " 'hen',\n",
       " 'spider',\n",
       " 'cuckoo',\n",
       " 'chick',\n",
       " 'swan',\n",
       " 'bombicum',\n",
       " 'hart',\n",
       " 'dormouse',\n",
       " 'swallow',\n",
       " 'crayfish',\n",
       " 'barbel',\n",
       " 'animal',\n",
       " 'pigeon',\n",
       " 'colt',\n",
       " 'verdaule',\n",
       " 'rat',\n",
       " 'crow',\n",
       " 'chicken',\n",
       " 'cow',\n",
       " 'horse',\n",
       " 'cat',\n",
       " 'toad',\n",
       " 'lark',\n",
       " 'daot',\n",
       " 'sheep',\n",
       " 'eagle',\n",
       " 'crab',\n",
       " 'lamb',\n",
       " 'bittern',\n",
       " 'hog',\n",
       " 'shell',\n",
       " 'dragon',\n",
       " 'pig',\n",
       " 'cicada',\n",
       " 'mutton',\n",
       " 'calandra',\n",
       " 'dogfish',\n",
       " 'passerine',\n",
       " 'duck',\n",
       " 'aucupio',\n",
       " 'wolf',\n",
       " 'snail',\n",
       " 'viper',\n",
       " 'grasshopper',\n",
       " 'mouse',\n",
       " 'nightingale',\n",
       " 'rabbit',\n",
       " 'og',\n",
       " 'mussel',\n",
       " 'codfish',\n",
       " 'porcupine',\n",
       " 'flea',\n",
       " 'goat',\n",
       " 'frog',\n",
       " 'louse',\n",
       " 'pork',\n",
       " 'ewe',\n",
       " 'chaffinch',\n",
       " 'earthworm',\n",
       " 'fly',\n",
       " 'dog',\n",
       " 'turtledofe',\n",
       " 'bird',\n",
       " 'weasel',\n",
       " 'linnet',\n",
       " 'partridge',\n",
       " 'turtle',\n",
       " 'tellin',\n",
       " 'silkworm',\n",
       " 'goldfinch']"
      ]
     },
     "execution_count": 2,
     "metadata": {},
     "output_type": "execute_result"
    }
   ],
   "source": [
    "path = os.getcwd() + '/../m-k-manuscript-data/manuscript-object/thesaurus/animal.csv'\n",
    "\n",
    "df = pd.read_csv(path)\n",
    "terms = list(set(df['prefLabel_en']))\n",
    "simple_terms = [t for t in terms if ' ' not in t]\n",
    "simple_terms"
   ]
  },
  {
   "cell_type": "code",
   "execution_count": 3,
   "metadata": {},
   "outputs": [
    {
     "data": {
      "text/plain": [
       "[Synset('dog.n.01'),\n",
       " Synset('frump.n.01'),\n",
       " Synset('dog.n.03'),\n",
       " Synset('cad.n.01'),\n",
       " Synset('frank.n.02'),\n",
       " Synset('pawl.n.01'),\n",
       " Synset('andiron.n.01')]"
      ]
     },
     "execution_count": 3,
     "metadata": {},
     "output_type": "execute_result"
    }
   ],
   "source": [
    "term = 'dog'\n",
    "dog = wn.synsets(term, pos=wn.NOUN)\n",
    "dog\n",
    "# hyper = dog[0].hypernyms()\n",
    "# for x in hyper:\n",
    "#     print(x, x.hypernyms())\n",
    "\n",
    "# from nltk.corpus import wordnet as wn\n",
    "# for ss in wn.synsets(term):\n",
    "#     print (ss, ss.hypernyms())"
   ]
  },
  {
   "cell_type": "code",
   "execution_count": 4,
   "metadata": {},
   "outputs": [],
   "source": [
    "animal = wn.synset('animal.n.01')\n",
    "\n",
    "class r_node:\n",
    "    def __init__(self, lemma, children=[]):\n",
    "        self.lemma = lemma\n",
    "        \n",
    "#         if lemma == animal:\n",
    "#             print(children + [lemma,])\n",
    "        \n",
    "        self.children = children\n",
    "        self.hypernyms = lemma.hypernyms()\n",
    "        self.parents = [r_node(h, children + [lemma,]) for h in self.hypernyms]\n",
    "        \n",
    "    def return_animal_path(self):\n",
    "        if self.lemma == animal:\n",
    "            return [[self.lemma,],]\n",
    "        else:\n",
    "            parent_paths = [n.return_animal_path() for n in self.parents]\n",
    "            parent_paths = [p for p in parent_paths if len(p) > 0]\n",
    "            paths = []\n",
    "            for p in parent_paths:\n",
    "                paths += p\n",
    "            for p in paths:\n",
    "                p.append(self.lemma)\n",
    "            return paths"
   ]
  },
  {
   "cell_type": "code",
   "execution_count": 5,
   "metadata": {},
   "outputs": [
    {
     "data": {
      "text/plain": [
       "[[Synset('animal.n.01'),\n",
       "  Synset('chordate.n.01'),\n",
       "  Synset('vertebrate.n.01'),\n",
       "  Synset('mammal.n.01'),\n",
       "  Synset('placental.n.01'),\n",
       "  Synset('carnivore.n.01'),\n",
       "  Synset('canine.n.02'),\n",
       "  Synset('dog.n.01')],\n",
       " [Synset('animal.n.01'), Synset('domestic_animal.n.01'), Synset('dog.n.01')]]"
      ]
     },
     "execution_count": 5,
     "metadata": {},
     "output_type": "execute_result"
    }
   ],
   "source": [
    "dog = wn.synsets('dog', pos=wn.NOUN)[0]\n",
    "dn = r_node(dog)\n",
    "dn.return_animal_path()\n",
    "# print([p.parents[0].lemma for p in dn.parents])\n",
    "\n",
    "# animal\n"
   ]
  },
  {
   "cell_type": "code",
   "execution_count": 6,
   "metadata": {},
   "outputs": [
    {
     "data": {
      "text/plain": [
       "[[Synset('animal.n.01'),\n",
       "  Synset('chordate.n.01'),\n",
       "  Synset('vertebrate.n.01'),\n",
       "  Synset('mammal.n.01'),\n",
       "  Synset('placental.n.01'),\n",
       "  Synset('rodent.n.01'),\n",
       "  Synset('squirrel.n.01')]]"
      ]
     },
     "execution_count": 6,
     "metadata": {},
     "output_type": "execute_result"
    }
   ],
   "source": [
    "squirrel = wn.synsets('squirrel')[0]\n",
    "sn = r_node(squirrel)\n",
    "sn.return_animal_path()"
   ]
  },
  {
   "cell_type": "code",
   "execution_count": 7,
   "metadata": {},
   "outputs": [
    {
     "data": {
      "text/plain": [
       "[[Synset('animal.n.01'),\n",
       "  Synset('chordate.n.01'),\n",
       "  Synset('vertebrate.n.01'),\n",
       "  Synset('aquatic_vertebrate.n.01'),\n",
       "  Synset('fish.n.01')]]"
      ]
     },
     "execution_count": 7,
     "metadata": {},
     "output_type": "execute_result"
    }
   ],
   "source": [
    "fish = wn.synsets('fish', pos=wn.NOUN)[0]\n",
    "fn = r_node(fish)\n",
    "fn.return_animal_path()"
   ]
  },
  {
   "cell_type": "code",
   "execution_count": 8,
   "metadata": {},
   "outputs": [
    {
     "data": {
      "text/plain": [
       "[[Synset('animal.n.01'),\n",
       "  Synset('invertebrate.n.01'),\n",
       "  Synset('arthropod.n.01'),\n",
       "  Synset('insect.n.01'),\n",
       "  Synset('louse.n.01')]]"
      ]
     },
     "execution_count": 8,
     "metadata": {},
     "output_type": "execute_result"
    }
   ],
   "source": [
    "louse = wn.synsets('louse')[0]\n",
    "ln = r_node(louse)\n",
    "ln.return_animal_path()"
   ]
  },
  {
   "cell_type": "code",
   "execution_count": 9,
   "metadata": {},
   "outputs": [
    {
     "data": {
      "text/plain": [
       "[[Synset('animal.n.01'),\n",
       "  Synset('invertebrate.n.01'),\n",
       "  Synset('mollusk.n.01'),\n",
       "  Synset('bivalve.n.01'),\n",
       "  Synset('oyster.n.01')]]"
      ]
     },
     "execution_count": 9,
     "metadata": {},
     "output_type": "execute_result"
    }
   ],
   "source": [
    "oyster = wn.synsets('oyster')[0]\n",
    "on = r_node(oyster)\n",
    "on.return_animal_path()"
   ]
  },
  {
   "cell_type": "code",
   "execution_count": 28,
   "metadata": {},
   "outputs": [
    {
     "data": {
      "text/html": [
       "<div>\n",
       "<style scoped>\n",
       "    .dataframe tbody tr th:only-of-type {\n",
       "        vertical-align: middle;\n",
       "    }\n",
       "\n",
       "    .dataframe tbody tr th {\n",
       "        vertical-align: top;\n",
       "    }\n",
       "\n",
       "    .dataframe thead th {\n",
       "        text-align: right;\n",
       "    }\n",
       "</style>\n",
       "<table border=\"1\" class=\"dataframe\">\n",
       "  <thead>\n",
       "    <tr style=\"text-align: right;\">\n",
       "      <th></th>\n",
       "      <th>term</th>\n",
       "      <th>index</th>\n",
       "      <th>synset</th>\n",
       "      <th>name</th>\n",
       "      <th>node</th>\n",
       "      <th>animal_paths</th>\n",
       "    </tr>\n",
       "  </thead>\n",
       "  <tbody>\n",
       "    <tr>\n",
       "      <th>0</th>\n",
       "      <td>Weasel</td>\n",
       "      <td>1</td>\n",
       "      <td>Synset('weasel.n.02')</td>\n",
       "      <td>weasel.n.02</td>\n",
       "      <td>&lt;__main__.r_node object at 0x11da55c90&gt;</td>\n",
       "      <td>[[Synset('animal.n.01'), Synset('chordate.n.01...</td>\n",
       "    </tr>\n",
       "    <tr>\n",
       "      <th>1</th>\n",
       "      <td>squirrel</td>\n",
       "      <td>0</td>\n",
       "      <td>Synset('squirrel.n.01')</td>\n",
       "      <td>squirrel.n.01</td>\n",
       "      <td>&lt;__main__.r_node object at 0x11da55990&gt;</td>\n",
       "      <td>[[Synset('animal.n.01'), Synset('chordate.n.01...</td>\n",
       "    </tr>\n",
       "    <tr>\n",
       "      <th>2</th>\n",
       "      <td>Fish</td>\n",
       "      <td>0</td>\n",
       "      <td>Synset('fish.n.01')</td>\n",
       "      <td>fish.n.01</td>\n",
       "      <td>&lt;__main__.r_node object at 0x11da55a50&gt;</td>\n",
       "      <td>[[Synset('animal.n.01'), Synset('chordate.n.01...</td>\n",
       "    </tr>\n",
       "    <tr>\n",
       "      <th>3</th>\n",
       "      <td>Louse</td>\n",
       "      <td>0</td>\n",
       "      <td>Synset('louse.n.01')</td>\n",
       "      <td>louse.n.01</td>\n",
       "      <td>&lt;__main__.r_node object at 0x11da55b50&gt;</td>\n",
       "      <td>[[Synset('animal.n.01'), Synset('invertebrate....</td>\n",
       "    </tr>\n",
       "    <tr>\n",
       "      <th>4</th>\n",
       "      <td>Oyster</td>\n",
       "      <td>0</td>\n",
       "      <td>Synset('oyster.n.01')</td>\n",
       "      <td>oyster.n.01</td>\n",
       "      <td>&lt;__main__.r_node object at 0x11da55610&gt;</td>\n",
       "      <td>[[Synset('animal.n.01'), Synset('invertebrate....</td>\n",
       "    </tr>\n",
       "    <tr>\n",
       "      <th>5</th>\n",
       "      <td>turtle</td>\n",
       "      <td>1</td>\n",
       "      <td>Synset('turtle.n.02')</td>\n",
       "      <td>turtle.n.02</td>\n",
       "      <td>&lt;__main__.r_node object at 0x11da55110&gt;</td>\n",
       "      <td>[[Synset('animal.n.01'), Synset('chordate.n.01...</td>\n",
       "    </tr>\n",
       "    <tr>\n",
       "      <th>6</th>\n",
       "      <td>Swan</td>\n",
       "      <td>0</td>\n",
       "      <td>Synset('swan.n.01')</td>\n",
       "      <td>swan.n.01</td>\n",
       "      <td>&lt;__main__.r_node object at 0x11da5b210&gt;</td>\n",
       "      <td>[[Synset('animal.n.01'), Synset('chordate.n.01...</td>\n",
       "    </tr>\n",
       "    <tr>\n",
       "      <th>7</th>\n",
       "      <td>Weasel</td>\n",
       "      <td>1</td>\n",
       "      <td>Synset('weasel.n.02')</td>\n",
       "      <td>weasel.n.02</td>\n",
       "      <td>&lt;__main__.r_node object at 0x11da5b410&gt;</td>\n",
       "      <td>[[Synset('animal.n.01'), Synset('chordate.n.01...</td>\n",
       "    </tr>\n",
       "  </tbody>\n",
       "</table>\n",
       "</div>"
      ],
      "text/plain": [
       "       term  index                   synset           name  \\\n",
       "0    Weasel      1    Synset('weasel.n.02')    weasel.n.02   \n",
       "1  squirrel      0  Synset('squirrel.n.01')  squirrel.n.01   \n",
       "2      Fish      0      Synset('fish.n.01')      fish.n.01   \n",
       "3     Louse      0     Synset('louse.n.01')     louse.n.01   \n",
       "4    Oyster      0    Synset('oyster.n.01')    oyster.n.01   \n",
       "5    turtle      1    Synset('turtle.n.02')    turtle.n.02   \n",
       "6      Swan      0      Synset('swan.n.01')      swan.n.01   \n",
       "7    Weasel      1    Synset('weasel.n.02')    weasel.n.02   \n",
       "\n",
       "                                      node  \\\n",
       "0  <__main__.r_node object at 0x11da55c90>   \n",
       "1  <__main__.r_node object at 0x11da55990>   \n",
       "2  <__main__.r_node object at 0x11da55a50>   \n",
       "3  <__main__.r_node object at 0x11da55b50>   \n",
       "4  <__main__.r_node object at 0x11da55610>   \n",
       "5  <__main__.r_node object at 0x11da55110>   \n",
       "6  <__main__.r_node object at 0x11da5b210>   \n",
       "7  <__main__.r_node object at 0x11da5b410>   \n",
       "\n",
       "                                        animal_paths  \n",
       "0  [[Synset('animal.n.01'), Synset('chordate.n.01...  \n",
       "1  [[Synset('animal.n.01'), Synset('chordate.n.01...  \n",
       "2  [[Synset('animal.n.01'), Synset('chordate.n.01...  \n",
       "3  [[Synset('animal.n.01'), Synset('invertebrate....  \n",
       "4  [[Synset('animal.n.01'), Synset('invertebrate....  \n",
       "5  [[Synset('animal.n.01'), Synset('chordate.n.01...  \n",
       "6  [[Synset('animal.n.01'), Synset('chordate.n.01...  \n",
       "7  [[Synset('animal.n.01'), Synset('chordate.n.01...  "
      ]
     },
     "execution_count": 28,
     "metadata": {},
     "output_type": "execute_result"
    }
   ],
   "source": [
    "df = pd.read_csv('vocab_terms.csv')\n",
    "df['synset'] = df.apply(lambda x: wn.synsets(x['term'])[x['index']] ,axis=1)\n",
    "df['name'] = df.synset.apply(lambda x: x.name())\n",
    "df['node'] = df.synset.apply(lambda x: r_node(x))\n",
    "df['animal_paths'] = df.node.apply(lambda x: x.return_animal_path())\n",
    "df"
   ]
  },
  {
   "cell_type": "code",
   "execution_count": 43,
   "metadata": {},
   "outputs": [],
   "source": [
    "class Node:\n",
    "    def __init__(self, term, lemma, parent = None):\n",
    "        self.term = term\n",
    "        self.lemma = lemma\n",
    "        self.parent = parent\n",
    "        self.children = {}\n",
    "        \n",
    "def text_from_synset(synset):\n",
    "    return synset.name().split('.')[0]"
   ]
  },
  {
   "cell_type": "code",
   "execution_count": 59,
   "metadata": {},
   "outputs": [],
   "source": [
    "Tree = Node('', None)\n",
    "for i, row in df.iterrows():\n",
    "    paths = row.animal_paths\n",
    "    for path in paths:\n",
    "        ref_node = Tree\n",
    "        for synset in path:\n",
    "            text = text_from_synset(synset)\n",
    "\n",
    "            if text in ref_node.children.keys():\n",
    "                ref_node = ref_node.children[text]\n",
    "            else:\n",
    "                new_node = Node(text, synset, ref_node)\n",
    "                ref_node.children[text] = new_node\n",
    "                ref_node = ref_node.children[text]  "
   ]
  },
  {
   "cell_type": "code",
   "execution_count": 60,
   "metadata": {},
   "outputs": [
    {
     "data": {
      "text/plain": [
       "'(animal(chordate(vertebrate(mammal(placental(carnivore(musteline_mammal(weasel))rodent(squirrel)))aquatic_vertebrate(fish)reptile(anapsid(chelonian(turtle)))bird(aquatic_bird(swan))))invertebrate(arthropod(insect(louse))mollusk(bivalve(oyster)))))'"
      ]
     },
     "execution_count": 60,
     "metadata": {},
     "output_type": "execute_result"
    }
   ],
   "source": [
    "def print_tree(node):\n",
    "    string = node.term\n",
    "    if node.children:\n",
    "        string += '('\n",
    "        for key, child in node.children.items():\n",
    "            string += print_tree(child)\n",
    "        string += ')'\n",
    "    return string\n",
    "\n",
    "print_tree(Tree)"
   ]
  },
  {
   "cell_type": "code",
   "execution_count": 12,
   "metadata": {},
   "outputs": [
    {
     "name": "stdout",
     "output_type": "stream",
     "text": [
      "[Synset('vertebrate.n.01')]\n",
      "[Synset('vertebrate.n.01')]\n",
      "[Synset('reptile.n.01')]\n",
      "[Synset('vertebrate.n.01')]\n",
      "[Synset('vertebrate.n.01')]\n",
      "[Synset('vertebrate.n.01')]\n",
      "[Synset('animal.n.01')]\n",
      "[Synset('invertebrate.n.01')]\n"
     ]
    }
   ],
   "source": [
    "squirrel = wn.synsets('squirrel')[0]\n",
    "weasel = wn.synsets('weasel')[1] # index 0 is a sneaky person\n",
    "squirrel.lowest_common_hypernyms(weasel)\n",
    "\n",
    "snake = wn.synsets('snake')[0]\n",
    "print(snake.lowest_common_hypernyms(weasel))\n",
    "print(snake.lowest_common_hypernyms(squirrel))\n",
    "\n",
    "turtle = wn.synsets('turtle')[1] # index 0 is a turtleneck (lmao)\n",
    "print(turtle.lowest_common_hypernyms(snake))\n",
    "print(turtle.lowest_common_hypernyms(squirrel))\n",
    "\n",
    "fish = wn.synsets('fish', pos=wn.NOUN)[0] # pos = part of speech\n",
    "swan = wn.synsets('swan')[0]\n",
    "print(fish.lowest_common_hypernyms(turtle))\n",
    "print(fish.lowest_common_hypernyms(snake))\n",
    "\n",
    "louse = wn.synsets('louse')[0]\n",
    "oyster = wn.synsets('oyster')[0]\n",
    "print(louse.lowest_common_hypernyms(snake))\n",
    "print(louse.lowest_common_hypernyms(oyster))"
   ]
  },
  {
   "cell_type": "code",
   "execution_count": null,
   "metadata": {},
   "outputs": [],
   "source": []
  },
  {
   "cell_type": "code",
   "execution_count": null,
   "metadata": {},
   "outputs": [],
   "source": []
  },
  {
   "cell_type": "code",
   "execution_count": null,
   "metadata": {},
   "outputs": [],
   "source": []
  }
 ],
 "metadata": {
  "kernelspec": {
   "display_name": "Python 3.7.4 64-bit ('manuscript-object': pipenv)",
   "language": "python",
   "name": "python37464bitmanuscriptobjectpipenv778597c73c514a8aa7536aea1433c1ad"
  },
  "language_info": {
   "codemirror_mode": {
    "name": "ipython",
    "version": 3
   },
   "file_extension": ".py",
   "mimetype": "text/x-python",
   "name": "python",
   "nbconvert_exporter": "python",
   "pygments_lexer": "ipython3",
   "version": "3.7.4"
  }
 },
 "nbformat": 4,
 "nbformat_minor": 4
}
